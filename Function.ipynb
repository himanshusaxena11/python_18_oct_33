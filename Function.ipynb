{
 "cells": [
  {
   "cell_type": "code",
   "execution_count": null,
   "id": "2dd38004",
   "metadata": {},
   "outputs": [],
   "source": [
    "#inbuilt/predefined function---list(),int(),float(),print(),input(),type(),sum()\n",
    "\n",
    "#user defined function---kuch bhi bna sakte he---#1 no arg no return\n",
    "                                                 #2 no arg with return\n",
    "                                                 #3 with arg no return\n",
    "                                                 #4 with arg with return"
   ]
  },
  {
   "cell_type": "code",
   "execution_count": 1,
   "id": "7742b4ba",
   "metadata": {},
   "outputs": [
    {
     "name": "stdout",
     "output_type": "stream",
     "text": [
      "how are you\n"
     ]
    }
   ],
   "source": [
    "def hello():\n",
    "    print('how are you')\n",
    "    \n",
    "hello()"
   ]
  },
  {
   "cell_type": "code",
   "execution_count": 4,
   "id": "a9182f5d",
   "metadata": {},
   "outputs": [
    {
     "name": "stdout",
     "output_type": "stream",
     "text": [
      "seems good\n"
     ]
    }
   ],
   "source": [
    "def ram34():\n",
    "    print('seems good')\n",
    "    \n",
    "ram34()"
   ]
  },
  {
   "cell_type": "code",
   "execution_count": 6,
   "id": "110d5924",
   "metadata": {},
   "outputs": [],
   "source": [
    "#wap to add 2nos using function\n",
    "def add():\n",
    "     a=4\n",
    "     b=5\n",
    "     c=a+b\n",
    "     print(c)"
   ]
  },
  {
   "cell_type": "code",
   "execution_count": 7,
   "id": "acb658e1",
   "metadata": {},
   "outputs": [
    {
     "name": "stdout",
     "output_type": "stream",
     "text": [
      "9\n"
     ]
    }
   ],
   "source": [
    "add()"
   ]
  },
  {
   "cell_type": "code",
   "execution_count": 9,
   "id": "4d721140",
   "metadata": {},
   "outputs": [
    {
     "name": "stdout",
     "output_type": "stream",
     "text": [
      "12\n"
     ]
    }
   ],
   "source": [
    "#no arg no return\n",
    "def add():\n",
    "     a=3\n",
    "     b=9\n",
    "     c=a+b\n",
    "     print(c)\n",
    "    \n",
    "add()"
   ]
  },
  {
   "cell_type": "code",
   "execution_count": 12,
   "id": "b1c7bf7b",
   "metadata": {},
   "outputs": [
    {
     "name": "stdout",
     "output_type": "stream",
     "text": [
      "15.3\n"
     ]
    }
   ],
   "source": [
    "#with arg no return\n",
    "def add(p,q):\n",
    "    r=p+q\n",
    "    print(r)\n",
    "    \n",
    "add(6,9.3)"
   ]
  },
  {
   "cell_type": "code",
   "execution_count": 15,
   "id": "6c2cda52",
   "metadata": {},
   "outputs": [
    {
     "name": "stdout",
     "output_type": "stream",
     "text": [
      "how areyou\n"
     ]
    }
   ],
   "source": [
    "def add(p,q):\n",
    "    r=p+q\n",
    "    print(r)\n",
    "    \n",
    "add('how are','you')"
   ]
  },
  {
   "cell_type": "code",
   "execution_count": 17,
   "id": "d5173f62",
   "metadata": {},
   "outputs": [
    {
     "name": "stdout",
     "output_type": "stream",
     "text": [
      "how are\n",
      "you\n"
     ]
    }
   ],
   "source": [
    "def add(p,q):\n",
    "    r=p+q\n",
    "    print(r)\n",
    "    \n",
    "add('how are\\n','you')"
   ]
  },
  {
   "cell_type": "code",
   "execution_count": 20,
   "id": "7cde6add",
   "metadata": {},
   "outputs": [
    {
     "name": "stdout",
     "output_type": "stream",
     "text": [
      "hey\n"
     ]
    }
   ],
   "source": [
    "def add(p,q):\n",
    "    r=p=q\n",
    "    print(r)\n",
    "    \n",
    "add(7,'hey')"
   ]
  },
  {
   "cell_type": "code",
   "execution_count": 5,
   "id": "a4edab8e",
   "metadata": {},
   "outputs": [
    {
     "data": {
      "text/plain": [
       "18"
      ]
     },
     "execution_count": 5,
     "metadata": {},
     "output_type": "execute_result"
    }
   ],
   "source": [
    "#with arg with return\n",
    "def add(a,b,c):\n",
    "    d=a+b+c\n",
    "    return(d)\n",
    "    print('hi')\n",
    "add(4,8,6)"
   ]
  },
  {
   "cell_type": "code",
   "execution_count": 8,
   "id": "b7168802",
   "metadata": {},
   "outputs": [
    {
     "ename": "NameError",
     "evalue": "name 'd' is not defined",
     "output_type": "error",
     "traceback": [
      "\u001b[1;31m---------------------------------------------------------------------------\u001b[0m",
      "\u001b[1;31mNameError\u001b[0m                                 Traceback (most recent call last)",
      "Input \u001b[1;32mIn [8]\u001b[0m, in \u001b[0;36m<cell line: 1>\u001b[1;34m()\u001b[0m\n\u001b[1;32m----> 1\u001b[0m \u001b[38;5;28mtype\u001b[39m(\u001b[43md\u001b[49m)\n",
      "\u001b[1;31mNameError\u001b[0m: name 'd' is not defined"
     ]
    }
   ],
   "source": [
    "type(d)"
   ]
  },
  {
   "cell_type": "code",
   "execution_count": 7,
   "id": "8d17aff6",
   "metadata": {},
   "outputs": [
    {
     "ename": "SyntaxError",
     "evalue": "'return' outside function (3922250506.py, line 1)",
     "output_type": "error",
     "traceback": [
      "\u001b[1;36m  Input \u001b[1;32mIn [7]\u001b[1;36m\u001b[0m\n\u001b[1;33m    return d\u001b[0m\n\u001b[1;37m    ^\u001b[0m\n\u001b[1;31mSyntaxError\u001b[0m\u001b[1;31m:\u001b[0m 'return' outside function\n"
     ]
    }
   ],
   "source": [
    "return d"
   ]
  },
  {
   "cell_type": "code",
   "execution_count": 10,
   "id": "89323365",
   "metadata": {},
   "outputs": [
    {
     "data": {
      "text/plain": [
       "13"
      ]
     },
     "execution_count": 10,
     "metadata": {},
     "output_type": "execute_result"
    }
   ],
   "source": [
    "#no arg with return\n",
    "def add():\n",
    "    a=8\n",
    "    b=5\n",
    "    c=a+b\n",
    "    return c\n",
    "add()"
   ]
  },
  {
   "cell_type": "markdown",
   "id": "b040c8af",
   "metadata": {},
   "source": [
    "# Default Arg "
   ]
  },
  {
   "cell_type": "code",
   "execution_count": 12,
   "id": "2e7bc413",
   "metadata": {},
   "outputs": [
    {
     "data": {
      "text/plain": [
       "9"
      ]
     },
     "execution_count": 12,
     "metadata": {},
     "output_type": "execute_result"
    }
   ],
   "source": [
    "def add(a,b=8):\n",
    "    c=a+b\n",
    "    return c\n",
    "\n",
    "add(2,7)"
   ]
  },
  {
   "cell_type": "code",
   "execution_count": 13,
   "id": "b41890c4",
   "metadata": {},
   "outputs": [
    {
     "data": {
      "text/plain": [
       "12"
      ]
     },
     "execution_count": 13,
     "metadata": {},
     "output_type": "execute_result"
    }
   ],
   "source": [
    "add(4)"
   ]
  },
  {
   "cell_type": "code",
   "execution_count": 28,
   "id": "224e7484",
   "metadata": {},
   "outputs": [
    {
     "data": {
      "text/plain": [
       "19"
      ]
     },
     "execution_count": 28,
     "metadata": {},
     "output_type": "execute_result"
    }
   ],
   "source": [
    "def add(a,b=7,c=9):\n",
    "    d=a+b+c\n",
    "    return d\n",
    "\n",
    "add(3)"
   ]
  },
  {
   "cell_type": "code",
   "execution_count": 32,
   "id": "1c78a2f5",
   "metadata": {},
   "outputs": [
    {
     "data": {
      "text/plain": [
       "13"
      ]
     },
     "execution_count": 32,
     "metadata": {},
     "output_type": "execute_result"
    }
   ],
   "source": [
    "def add(a=4,b=3,c=6):\n",
    "    d=a+b+c\n",
    "    return d\n",
    "\n",
    "add()"
   ]
  },
  {
   "cell_type": "code",
   "execution_count": null,
   "id": "beb1743f",
   "metadata": {},
   "outputs": [],
   "source": []
  }
 ],
 "metadata": {
  "kernelspec": {
   "display_name": "Python 3 (ipykernel)",
   "language": "python",
   "name": "python3"
  },
  "language_info": {
   "codemirror_mode": {
    "name": "ipython",
    "version": 3
   },
   "file_extension": ".py",
   "mimetype": "text/x-python",
   "name": "python",
   "nbconvert_exporter": "python",
   "pygments_lexer": "ipython3",
   "version": "3.9.12"
  }
 },
 "nbformat": 4,
 "nbformat_minor": 5
}
